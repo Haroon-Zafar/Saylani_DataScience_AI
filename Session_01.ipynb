{
 "cells": [
  {
   "cell_type": "code",
   "execution_count": 32,
   "id": "7a092d8c",
   "metadata": {},
   "outputs": [],
   "source": [
    "# This box is called Cell \n",
    "# If it is in Green, it means it is code / active\n",
    "# Blue means Markdown Cell ( no code only text ) "
   ]
  },
  {
   "cell_type": "markdown",
   "id": "b1f9442e",
   "metadata": {},
   "source": [
    "Programming Fundamentals Using Python"
   ]
  },
  {
   "cell_type": "code",
   "execution_count": 5,
   "id": "1411f593",
   "metadata": {},
   "outputs": [
    {
     "name": "stdout",
     "output_type": "stream",
     "text": [
      "Hello World\n"
     ]
    }
   ],
   "source": [
    "# Printing String\n",
    "\n",
    "print(\"Hello World\")"
   ]
  },
  {
   "cell_type": "code",
   "execution_count": 7,
   "id": "b652e38f",
   "metadata": {},
   "outputs": [
    {
     "name": "stdout",
     "output_type": "stream",
     "text": [
      "123\n"
     ]
    }
   ],
   "source": [
    "# Printing Numbers\n",
    "\n",
    "print(123)"
   ]
  },
  {
   "cell_type": "code",
   "execution_count": 8,
   "id": "f941d374",
   "metadata": {},
   "outputs": [
    {
     "name": "stdout",
     "output_type": "stream",
     "text": [
      "123.4123\n"
     ]
    }
   ],
   "source": [
    "# Printing Decimal Numbers \n",
    "\n",
    "print(123.4123)"
   ]
  },
  {
   "cell_type": "code",
   "execution_count": 9,
   "id": "46f30ea8",
   "metadata": {},
   "outputs": [],
   "source": [
    "# The Display is called \"Consoled Display\""
   ]
  },
  {
   "cell_type": "markdown",
   "id": "99d1553c",
   "metadata": {},
   "source": [
    "Value Includes \n",
    "\n",
    "    * String ( Any Text ) \n",
    "    * Numbers ( Any Numbers )\n",
    "        - Whole Number ( int )\n",
    "        - Decimal ( float )\n",
    "        - Integars ( int ) \n",
    "    * Boolean ( True , False )\n",
    "    "
   ]
  },
  {
   "cell_type": "code",
   "execution_count": 10,
   "id": "1b8e20c8",
   "metadata": {},
   "outputs": [
    {
     "name": "stdout",
     "output_type": "stream",
     "text": [
      "Python Haroon 100 True 3.12\n"
     ]
    }
   ],
   "source": [
    "# Comma is a value Separator\n",
    "\n",
    "print( \"Python\", \"Haroon\", 100, True, 3.12)"
   ]
  },
  {
   "cell_type": "code",
   "execution_count": 12,
   "id": "ff5ebc4e",
   "metadata": {},
   "outputs": [
    {
     "name": "stdout",
     "output_type": "stream",
     "text": [
      "Help on built-in function print in module builtins:\n",
      "\n",
      "print(...)\n",
      "    print(value, ..., sep=' ', end='\\n', file=sys.stdout, flush=False)\n",
      "    \n",
      "    Prints the values to a stream, or to sys.stdout by default.\n",
      "    Optional keyword arguments:\n",
      "    file:  a file-like object (stream); defaults to the current sys.stdout.\n",
      "    sep:   string inserted between values, default a space.\n",
      "    end:   string appended after the last value, default a newline.\n",
      "    flush: whether to forcibly flush the stream.\n",
      "\n"
     ]
    }
   ],
   "source": [
    "help (print)\n"
   ]
  },
  {
   "cell_type": "markdown",
   "id": "c632c0c8",
   "metadata": {},
   "source": [
    " sep = ' ' is an argument inside print() \n",
    "it separates the values based on what you write on inside inverted commas \"\" or single commas ''\n",
    "sep = '' means values will be printed without any space. \n"
   ]
  },
  {
   "cell_type": "code",
   "execution_count": 15,
   "id": "af572f4d",
   "metadata": {},
   "outputs": [
    {
     "name": "stdout",
     "output_type": "stream",
     "text": [
      "h*a*r*o\n"
     ]
    }
   ],
   "source": [
    "print(\"h\", \"a\", \"r\", \"o\", sep=\"*\")"
   ]
  },
  {
   "cell_type": "code",
   "execution_count": 22,
   "id": "b21f7fb8",
   "metadata": {},
   "outputs": [
    {
     "name": "stdout",
     "output_type": "stream",
     "text": [
      "haroon\t\tzafar\n"
     ]
    }
   ],
   "source": [
    "# end = \"\\n\" is an escape character \n",
    "# end = \"\\t\" is for 3 spaces\n",
    "print(\"haroon\", end = \"\\n\")\n",
    "print(\"zafar\")"
   ]
  },
  {
   "cell_type": "code",
   "execution_count": 23,
   "id": "568e0a00",
   "metadata": {},
   "outputs": [
    {
     "name": "stdout",
     "output_type": "stream",
     "text": [
      "haroon\t\tzafar\n"
     ]
    }
   ],
   "source": [
    "print(\"haroon\", end = \"\\t\\t\")\n",
    "print(\"zafar\")"
   ]
  },
  {
   "cell_type": "code",
   "execution_count": 26,
   "id": "3cd5b893",
   "metadata": {},
   "outputs": [
    {
     "data": {
      "text/plain": [
       "1"
      ]
     },
     "execution_count": 26,
     "metadata": {},
     "output_type": "execute_result"
    }
   ],
   "source": [
    "def abc(a):\n",
    "    '''This is an abc function'''\n",
    "    return a\n",
    "\n",
    "# shift and tab inside a function gives you it's docstring / documentation \n",
    "abc(1)\n",
    "\n",
    "\n"
   ]
  },
  {
   "cell_type": "code",
   "execution_count": 28,
   "id": "f85e1ff9",
   "metadata": {},
   "outputs": [],
   "source": [
    "#  ? does also the same i.e to display docstring\n",
    "# print?"
   ]
  },
  {
   "cell_type": "code",
   "execution_count": 31,
   "id": "52e8c605",
   "metadata": {},
   "outputs": [
    {
     "name": "stdout",
     "output_type": "stream",
     "text": [
      "This is DataScience \n",
      " and Artificial Intelligence Batch # 04\n"
     ]
    }
   ],
   "source": [
    "# \\n is used to change line\n",
    "print(\"This is DataScience \\n and Artificial Intelligence Batch # 04\")"
   ]
  },
  {
   "cell_type": "markdown",
   "id": "c06d1dea",
   "metadata": {},
   "source": [
    "Difference between Strings "
   ]
  },
  {
   "cell_type": "code",
   "execution_count": 32,
   "id": "a7fd3545",
   "metadata": {},
   "outputs": [
    {
     "data": {
      "text/plain": [
       "('Pakistan', 'Pakistan', 'Pakistan')"
      ]
     },
     "execution_count": 32,
     "metadata": {},
     "output_type": "execute_result"
    }
   ],
   "source": [
    "'Pakistan', \"Pakistan\", '''Pakistan'''"
   ]
  },
  {
   "cell_type": "markdown",
   "id": "92d65cf0",
   "metadata": {},
   "source": [
    "How can we write Commas inside Inverted Commas inside print function"
   ]
  },
  {
   "cell_type": "code",
   "execution_count": 33,
   "id": "3c5fdb0d",
   "metadata": {},
   "outputs": [
    {
     "name": "stdout",
     "output_type": "stream",
     "text": [
      "This is 'AI and DS' Batch 4\n"
     ]
    }
   ],
   "source": [
    "print(\"This is 'AI and DS' Batch 4\")"
   ]
  },
  {
   "cell_type": "markdown",
   "id": "ab0cdeec",
   "metadata": {},
   "source": [
    "What if we want to write Double Inverted Commas inside Double Inverted Commas in a print() "
   ]
  },
  {
   "cell_type": "code",
   "execution_count": 38,
   "id": "61c34b80",
   "metadata": {},
   "outputs": [
    {
     "name": "stdout",
     "output_type": "stream",
     "text": [
      "This is \"AI and DS\" Batch 4\n"
     ]
    }
   ],
   "source": [
    "# USE ESCAPE SEQUENCE \n",
    "# Use Backward Slash\n",
    "print(\"This is \\\"AI and DS\\\" Batch 4\")"
   ]
  },
  {
   "cell_type": "markdown",
   "id": "4429521d",
   "metadata": {},
   "source": [
    "We want ot print something like this\n",
    "\n",
    "                Saylani Mass IT Training\n",
    "           Name : Nasir Hussain\n",
    "           Class : AI & DS \n",
    "           Batch : 4 \n",
    "           Campus : Bahadurabad Campus "
   ]
  },
  {
   "cell_type": "code",
   "execution_count": 39,
   "id": "0bf8bb76",
   "metadata": {},
   "outputs": [
    {
     "name": "stdout",
     "output_type": "stream",
     "text": [
      "\n",
      "                        Saylani Mass IT Training\n",
      "           Name : Nasir Hussain\n",
      "           Class : AI & DS \n",
      "           Batch : 4 \n",
      "           Campus : Bahadurabad Campus \n",
      "        \n",
      "        \n"
     ]
    }
   ],
   "source": [
    "# MULTI-QUOTE \n",
    "# USE TRIPPLE COMMAS '''textInside'''\n",
    "\n",
    "print(\"\"\"\n",
    "                        Saylani Mass IT Training\n",
    "           Name : Nasir Hussain\n",
    "           Class : AI & DS \n",
    "           Batch : 4 \n",
    "           Campus : Bahadurabad Campus \n",
    "        \n",
    "        \"\"\")"
   ]
  },
  {
   "cell_type": "code",
   "execution_count": 40,
   "id": "926e54c7",
   "metadata": {},
   "outputs": [
    {
     "name": "stdout",
     "output_type": "stream",
     "text": [
      "Pakistan\\\n"
     ]
    }
   ],
   "source": [
    "print(\"Pakistan\\\\\")"
   ]
  },
  {
   "cell_type": "markdown",
   "id": "b1ef4d51",
   "metadata": {},
   "source": [
    "\n",
    "Variables"
   ]
  },
  {
   "cell_type": "code",
   "execution_count": 267,
   "id": "afe7c73f",
   "metadata": {},
   "outputs": [
    {
     "data": {
      "text/plain": [
       "2187771086192"
      ]
     },
     "execution_count": 267,
     "metadata": {},
     "output_type": "execute_result"
    }
   ],
   "source": [
    "country = \"Pakistan\"\n",
    "# id returns the Memory Location/Identity of an Object. \n",
    "id(country)"
   ]
  },
  {
   "cell_type": "code",
   "execution_count": 268,
   "id": "ddc3a850",
   "metadata": {},
   "outputs": [],
   "source": [
    "# Comments\n",
    "\n",
    "# Comments are line which aren't readable by Compiler/Interpreter. \n",
    "\n",
    "# A notebook can show ( not print ) the value of a variable."
   ]
  },
  {
   "cell_type": "code",
   "execution_count": 271,
   "id": "46381bad",
   "metadata": {},
   "outputs": [
    {
     "name": "stdout",
     "output_type": "stream",
     "text": [
      "Pakistan\n"
     ]
    },
    {
     "data": {
      "text/plain": [
       "'Pakistan'"
      ]
     },
     "execution_count": 271,
     "metadata": {},
     "output_type": "execute_result"
    }
   ],
   "source": [
    "print(country) # Pakistan \n",
    "country # 'Pakistan'"
   ]
  },
  {
   "cell_type": "code",
   "execution_count": 272,
   "id": "d675eef9",
   "metadata": {},
   "outputs": [],
   "source": [
    "marks = 90 "
   ]
  },
  {
   "cell_type": "code",
   "execution_count": 273,
   "id": "d294f893",
   "metadata": {},
   "outputs": [],
   "source": [
    "feesPaid = True"
   ]
  },
  {
   "cell_type": "code",
   "execution_count": 274,
   "id": "93a1574c",
   "metadata": {},
   "outputs": [],
   "source": [
    "name = \"Haroon\""
   ]
  },
  {
   "cell_type": "code",
   "execution_count": 275,
   "id": "e0d37c4c",
   "metadata": {},
   "outputs": [],
   "source": [
    "weightKG = 100"
   ]
  },
  {
   "cell_type": "code",
   "execution_count": 276,
   "id": "6a4d6f9b",
   "metadata": {},
   "outputs": [],
   "source": [
    "heightFT = 6"
   ]
  },
  {
   "cell_type": "markdown",
   "id": "fe403a52",
   "metadata": {},
   "source": [
    "VARIABLE CONVENTION"
   ]
  },
  {
   "cell_type": "markdown",
   "id": "cdceca2e",
   "metadata": {},
   "source": [
    "OPERATORS\n",
    "\n",
    "    - Arithmetic Operators\n",
    "    - Logical Operators \n",
    "    - Conditional Operators "
   ]
  },
  {
   "cell_type": "code",
   "execution_count": 282,
   "id": "5f9e0e7f",
   "metadata": {},
   "outputs": [],
   "source": [
    "# Artihmetic Operators \n",
    "# + - * /  (Basic Arithmetic Operators) \n",
    "# / Floating Division\n",
    "# % Remainder \n",
    "# // Quotient"
   ]
  },
  {
   "cell_type": "code",
   "execution_count": 281,
   "id": "58482733",
   "metadata": {},
   "outputs": [
    {
     "name": "stdout",
     "output_type": "stream",
     "text": [
      "0\n",
      "1\n",
      "3\n"
     ]
    }
   ],
   "source": [
    "# Remainder % (Modulo Opeator) \n",
    "\n",
    "print(4%2)\n",
    "print(4%3)\n",
    "print(3%4)"
   ]
  },
  {
   "cell_type": "code",
   "execution_count": 288,
   "id": "724379fa",
   "metadata": {},
   "outputs": [
    {
     "name": "stdout",
     "output_type": "stream",
     "text": [
      "6\n"
     ]
    }
   ],
   "source": [
    "# Quotient (Int Division)\n",
    "\n",
    "print(20//3)"
   ]
  },
  {
   "cell_type": "code",
   "execution_count": 295,
   "id": "92792b68",
   "metadata": {},
   "outputs": [
    {
     "name": "stdout",
     "output_type": "stream",
     "text": [
      "True\n"
     ]
    }
   ],
   "source": [
    "# Logical Operators \n",
    "# < , > , <= , >= , == , !=\n",
    "print(3>2)"
   ]
  },
  {
   "cell_type": "code",
   "execution_count": 294,
   "id": "4a7436bb",
   "metadata": {},
   "outputs": [
    {
     "name": "stdout",
     "output_type": "stream",
     "text": [
      "False\n"
     ]
    }
   ],
   "source": [
    "print(20!=20)"
   ]
  },
  {
   "cell_type": "markdown",
   "id": "9b59f14a",
   "metadata": {},
   "source": [
    "Concatenation + in String"
   ]
  },
  {
   "cell_type": "code",
   "execution_count": 1,
   "id": "204623a3",
   "metadata": {},
   "outputs": [
    {
     "data": {
      "text/plain": [
       "'HaroonZafar'"
      ]
     },
     "execution_count": 1,
     "metadata": {},
     "output_type": "execute_result"
    }
   ],
   "source": [
    "\"Haroon\" + \"Zafar\""
   ]
  },
  {
   "cell_type": "markdown",
   "id": "cfe0edb5",
   "metadata": {},
   "source": [
    "Concatenation with number and string"
   ]
  },
  {
   "cell_type": "code",
   "execution_count": 10,
   "id": "491b3faa",
   "metadata": {},
   "outputs": [
    {
     "data": {
      "text/plain": [
       "'3Haroon'"
      ]
     },
     "execution_count": 10,
     "metadata": {},
     "output_type": "execute_result"
    }
   ],
   "source": [
    "str ( 1 + 2 ) + \"Haroon\""
   ]
  },
  {
   "cell_type": "code",
   "execution_count": 12,
   "id": "a8a54cf5",
   "metadata": {},
   "outputs": [
    {
     "name": "stdout",
     "output_type": "stream",
     "text": [
      "My Name is Haroon\n"
     ]
    }
   ],
   "source": [
    "name = \"Haroon\"\n",
    "age = 20\n",
    "\n",
    "print(f\"My Name is {name}\")"
   ]
  },
  {
   "cell_type": "code",
   "execution_count": 20,
   "id": "a32c7f7a",
   "metadata": {},
   "outputs": [
    {
     "name": "stdout",
     "output_type": "stream",
     "text": [
      "My Name is Haroon. My Age is 20\n"
     ]
    }
   ],
   "source": [
    "# Dynamic Declaration\n",
    "\n",
    "print(\"My Name is {}. My Age is {}\".format(name, age))"
   ]
  },
  {
   "cell_type": "code",
   "execution_count": 21,
   "id": "32b64211",
   "metadata": {},
   "outputs": [
    {
     "data": {
      "text/plain": [
       "int"
      ]
     },
     "execution_count": 21,
     "metadata": {},
     "output_type": "execute_result"
    }
   ],
   "source": [
    "# This is done due to the future error which will rise because of int and str type of age and name respectively\n",
    "# This can be cured with above solution and you do not have to change the type \n",
    "type(age)"
   ]
  },
  {
   "cell_type": "code",
   "execution_count": 22,
   "id": "db4a68ad",
   "metadata": {},
   "outputs": [
    {
     "data": {
      "text/plain": [
       "str"
      ]
     },
     "execution_count": 22,
     "metadata": {},
     "output_type": "execute_result"
    }
   ],
   "source": [
    "type(name)"
   ]
  },
  {
   "cell_type": "code",
   "execution_count": 24,
   "id": "d6659e33",
   "metadata": {},
   "outputs": [],
   "source": [
    "# \"My name is \" + name + \"and my age is \" + age  # It's gonna produce >> TypeError            "
   ]
  },
  {
   "cell_type": "code",
   "execution_count": 26,
   "id": "e570ffeb",
   "metadata": {},
   "outputs": [],
   "source": [
    "# You can not change age 23 to 24 if dynamically not changed i.e \n",
    "# so follow this \"My Name is {}. My Age is {}\".format(name, age)"
   ]
  },
  {
   "cell_type": "code",
   "execution_count": 30,
   "id": "57a06841",
   "metadata": {},
   "outputs": [
    {
     "name": "stdout",
     "output_type": "stream",
     "text": [
      "My Name is Haroon. My Age is 20\n"
     ]
    }
   ],
   "source": [
    "print(f\"My Name is {name}. My Age is {age}\")"
   ]
  },
  {
   "cell_type": "code",
   "execution_count": 31,
   "id": "26001c44",
   "metadata": {},
   "outputs": [
    {
     "data": {
      "text/plain": [
       "'My name is Haroon and my age is 20'"
      ]
     },
     "execution_count": 31,
     "metadata": {},
     "output_type": "execute_result"
    }
   ],
   "source": [
    "f'My name is {name} and my age is {age}'"
   ]
  },
  {
   "cell_type": "code",
   "execution_count": null,
   "id": "0d7e8aa6",
   "metadata": {},
   "outputs": [],
   "source": []
  }
 ],
 "metadata": {
  "kernelspec": {
   "display_name": "Python 3 (ipykernel)",
   "language": "python",
   "name": "python3"
  },
  "language_info": {
   "codemirror_mode": {
    "name": "ipython",
    "version": 3
   },
   "file_extension": ".py",
   "mimetype": "text/x-python",
   "name": "python",
   "nbconvert_exporter": "python",
   "pygments_lexer": "ipython3",
   "version": "3.9.13"
  }
 },
 "nbformat": 4,
 "nbformat_minor": 5
}
