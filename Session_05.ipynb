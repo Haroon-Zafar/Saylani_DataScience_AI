{
 "cells": [
  {
   "cell_type": "markdown",
   "metadata": {},
   "source": [
    "Nested Ifs"
   ]
  },
  {
   "cell_type": "code",
   "execution_count": 27,
   "metadata": {},
   "outputs": [
    {
     "name": "stdout",
     "output_type": "stream",
     "text": [
      "We don't have this color\n"
     ]
    }
   ],
   "source": [
    "# Nested Ifs\n",
    "\n",
    "store = [\n",
    "            {'brand': 'Nike', 'sizes': ['Small', 'Medium', 'Large', 'Extra Large'], 'color': ['Red', 'Green', 'Blue' ], 'price': 1000},\n",
    "            {'brand': 'Bonanza', 'sizes': ['Small', 'Medium', 'Large', 'Extra Large'], 'color': ['Red', 'Green', 'Blue' ], 'price': 1500},\n",
    "            {'brand': 'Polo', 'sizes': ['Small', 'Medium', 'Large', 'Extra Large'], 'color': ['Red', 'Green', 'Blue' ], 'price': 2000},\n",
    "            {'brand': 'Levis', 'sizes': ['Small', 'Medium', 'Large', 'Extra Large'], 'color': ['Red', 'Green', 'Blue' ], 'price': 2500},\n",
    "            \n",
    "        ]\n",
    "\n",
    "# brand = input(\"Enter a brand: \")\n",
    "# size = input(\"Enter a size: \")\n",
    "# color = input(\"Enter a color: \")\n",
    "# price = float(input(\"Enter a price: \"))\n",
    "\n",
    "if brand == \"Nike\":\n",
    "    if size == \"S\":\n",
    "        if color == \"Red\":\n",
    "            if price < 100:\n",
    "                print(\"You can buy this shoe\")\n",
    "            else:\n",
    "                print(\"This shoe is too expensive\")\n",
    "        else:\n",
    "            print(\"We don't have this color\")\n",
    "    else:\n",
    "        print(\"We don't have this size\")\n"
   ]
  },
  {
   "cell_type": "markdown",
   "metadata": {},
   "source": [
    "Loops\n",
    "\n",
    "    - for loop\n",
    "    - while loop\n",
    "    "
   ]
  },
  {
   "cell_type": "code",
   "execution_count": 38,
   "metadata": {},
   "outputs": [
    {
     "name": "stdout",
     "output_type": "stream",
     "text": [
      "polo available\n",
      "Small size available\n",
      "Red color available\n",
      "polo not available\n",
      "polo not available\n",
      "polo not available\n"
     ]
    }
   ],
   "source": [
    "brand = input(\"Enter a brand: \")\n",
    "size = input(\"Enter a size: \")\n",
    "color = input(\"Enter a color: \")\n",
    "price = input(\"Enter a price: \")\n",
    "\n",
    "\n",
    "for item in store : \n",
    "    if item ['brand'] == brand:\n",
    "        print(\"polo available\")\n",
    "        \n",
    "        if size.title() in item['sizes'] :\n",
    "            print(size, \"size available\")\n",
    "            \n",
    "            if color.title() in item['color'] :\n",
    "                print(color, \"color available\")\n",
    "                continue\n",
    "                \n",
    "                if price in item['price'] :\n",
    "                    print(price, \"color available\")\n",
    "                    continue\n",
    "                        \n",
    "                else:\n",
    "                    print(\"price range is not available\")\n",
    "\n",
    "                                        \n",
    "            else:\n",
    "                print(\"color not available\")\n",
    "                \n",
    "                \n",
    "        else:\n",
    "            print(\"size not available\")\n",
    "            # .title() gives the first letter of the word in capital\n",
    "        # size = input (\"Enter your size\").title()\n",
    "        \n",
    "        # if size in item['sizes']:\n",
    "        #     size = input(\"Enter your size\")\n",
    "        #     if color in item['color']:\n",
    "        #         color = input(\"Enter your color\")\n",
    "\n",
    "    else : \n",
    "        continue # continue \n",
    "        # print(\"polo not available\")                \n",
    "        \n",
    "    "
   ]
  },
  {
   "cell_type": "code",
   "execution_count": 39,
   "metadata": {},
   "outputs": [
    {
     "name": "stdout",
     "output_type": "stream",
     "text": [
      "key1\n",
      "key2\n",
      "key3\n"
     ]
    }
   ],
   "source": [
    "# Printing keys of a dictionary using a loop\n",
    "d = {'key1': 1, 'key2': 2, 'key3': 3}\n",
    "\n",
    "for k in d:\n",
    "    print(k)"
   ]
  },
  {
   "cell_type": "markdown",
   "metadata": {},
   "source": [
    "Continue and Break"
   ]
  },
  {
   "cell_type": "code",
   "execution_count": 46,
   "metadata": {},
   "outputs": [
    {
     "name": "stdout",
     "output_type": "stream",
     "text": [
      "1\n",
      "2\n",
      "3\n",
      "4\n",
      "5\n"
     ]
    }
   ],
   "source": [
    "for i in range(1, 10):\n",
    "    if i == 5:\n",
    "        # break does not allow the loop to continue and discontinues the loop\n",
    "        print(i)\n",
    "        break\n",
    "    print(i)"
   ]
  },
  {
   "cell_type": "code",
   "execution_count": 47,
   "metadata": {},
   "outputs": [
    {
     "name": "stdout",
     "output_type": "stream",
     "text": [
      "1\n",
      "2\n",
      "3\n",
      "4\n",
      "6\n",
      "7\n",
      "8\n",
      "9\n"
     ]
    }
   ],
   "source": [
    "for i in range(1, 10):\n",
    "    if i == 5:\n",
    "        # continue allows the loop to continue and does not discontinue the loop\n",
    "        continue\n",
    "    print(i)"
   ]
  },
  {
   "cell_type": "code",
   "execution_count": 50,
   "metadata": {},
   "outputs": [
    {
     "name": "stdout",
     "output_type": "stream",
     "text": [
      "20\n",
      "18\n",
      "16\n",
      "14\n",
      "12\n",
      "HERE NUMBER IS 10\n",
      "8\n",
      "6\n",
      "4\n",
      "2\n"
     ]
    }
   ],
   "source": [
    "for num in range(20, 1, -2):\n",
    "    if num == 10:\n",
    "        print(\"HERE NUMBER IS 10\")\n",
    "        continue\n",
    "        print(\"AFTER CONTINUE\")\n",
    "    print(num)\n",
    "    "
   ]
  },
  {
   "cell_type": "code",
   "execution_count": null,
   "metadata": {},
   "outputs": [],
   "source": []
  }
 ],
 "metadata": {
  "kernelspec": {
   "display_name": "Python 3.11.2 64-bit",
   "language": "python",
   "name": "python3"
  },
  "language_info": {
   "codemirror_mode": {
    "name": "ipython",
    "version": 3
   },
   "file_extension": ".py",
   "mimetype": "text/x-python",
   "name": "python",
   "nbconvert_exporter": "python",
   "pygments_lexer": "ipython3",
   "version": "3.11.2"
  },
  "orig_nbformat": 4,
  "vscode": {
   "interpreter": {
    "hash": "69713e280fccb9aa802931bf1b98f79efcfe938b3ab1e86cc85b2e647522a81d"
   }
  }
 },
 "nbformat": 4,
 "nbformat_minor": 2
}
