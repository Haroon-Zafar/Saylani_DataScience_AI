{
 "cells": [
  {
   "cell_type": "markdown",
   "metadata": {},
   "source": [
    "Nested Ifs"
   ]
  },
  {
   "cell_type": "code",
   "execution_count": 4,
   "metadata": {},
   "outputs": [
    {
     "name": "stdout",
     "output_type": "stream",
     "text": [
      "We don't have this size\n"
     ]
    }
   ],
   "source": [
    "# Nested Ifs\n",
    "\n",
    "store = [\n",
    "            {'brand': 'Nike', 'size': ['S', 'M', 'L', 'XL'], 'color': ['Red', 'Green', 'Blue' ], 'price': 1000},\n",
    "            {'brand': 'Bonanza', 'size': ['S', 'M', 'L', 'XL'], 'color': ['Red', 'Green', 'Blue' ], 'price': 1500},\n",
    "            {'brand': 'Dinners', 'size': ['S', 'M', 'L', 'XL'], 'color': ['Red', 'Green', 'Blue' ], 'price': 2000},\n",
    "            {'brand': 'Levis', 'size': ['S', 'M', 'L', 'XL'], 'color': ['Red', 'Green', 'Blue' ], 'price': 2500},\n",
    "            \n",
    "        ]\n",
    "\n",
    "brand = input(\"Enter a brand: \")\n",
    "size = input(\"Enter a size: \")\n",
    "color = input(\"Enter a color: \")\n",
    "price = float(input(\"Enter a price: \"))\n",
    "\n",
    "if brand == \"Nike\":\n",
    "    if size == \"S\":\n",
    "        if color == \"Red\":\n",
    "            if price < 100:\n",
    "                print(\"You can buy this shoe\")\n",
    "            else:\n",
    "                print(\"This shoe is too expensive\")\n",
    "        else:\n",
    "            print(\"We don't have this color\")\n",
    "    else:\n",
    "        print(\"We don't have this size\")\n"
   ]
  },
  {
   "cell_type": "code",
   "execution_count": null,
   "metadata": {},
   "outputs": [],
   "source": []
  }
 ],
 "metadata": {
  "kernelspec": {
   "display_name": "Python 3.11.2 64-bit",
   "language": "python",
   "name": "python3"
  },
  "language_info": {
   "codemirror_mode": {
    "name": "ipython",
    "version": 3
   },
   "file_extension": ".py",
   "mimetype": "text/x-python",
   "name": "python",
   "nbconvert_exporter": "python",
   "pygments_lexer": "ipython3",
   "version": "3.11.2"
  },
  "orig_nbformat": 4,
  "vscode": {
   "interpreter": {
    "hash": "69713e280fccb9aa802931bf1b98f79efcfe938b3ab1e86cc85b2e647522a81d"
   }
  }
 },
 "nbformat": 4,
 "nbformat_minor": 2
}
