{
 "cells": [
  {
   "cell_type": "code",
   "execution_count": 2,
   "metadata": {},
   "outputs": [],
   "source": [
    "# Class Attribute Vs. Instance Attribute \n",
    "# Class Attributes are defined inside class\n",
    "# Instance Attributes are defined inside methods of the class. i.e __init__\n",
    "\n",
    "class Student():\n",
    "    # here we are defining class attribute \n",
    "    course = \"Artificial Intelligence\"\n",
    "    \n",
    "    # __init__ function\n",
    "    \n",
    "    def __init__(self, name, father_name, roll, section):\n",
    "        \n",
    "        # instance attributes\n",
    "        self.name = name\n",
    "        self.father_name  = father_name\n",
    "        self.roll = roll \n",
    "        self.section = section\n",
    "        "
   ]
  },
  {
   "cell_type": "code",
   "execution_count": 4,
   "metadata": {},
   "outputs": [],
   "source": [
    "student1 = Student(\"Muhammad Haroon\", \"Zafar Iqbal\", \"CS-1905\", \"A\")"
   ]
  },
  {
   "cell_type": "code",
   "execution_count": 9,
   "metadata": {},
   "outputs": [
    {
     "name": "stdout",
     "output_type": "stream",
     "text": [
      "Muhammad Haroon\n"
     ]
    }
   ],
   "source": [
    "print(student1.name)"
   ]
  },
  {
   "cell_type": "code",
   "execution_count": 10,
   "metadata": {},
   "outputs": [
    {
     "name": "stdout",
     "output_type": "stream",
     "text": [
      "Zafar Iqbal\n"
     ]
    }
   ],
   "source": [
    "print(student1.father_name)"
   ]
  },
  {
   "cell_type": "code",
   "execution_count": null,
   "metadata": {},
   "outputs": [],
   "source": []
  }
 ],
 "metadata": {
  "kernelspec": {
   "display_name": "Python 3.11.2 64-bit",
   "language": "python",
   "name": "python3"
  },
  "language_info": {
   "codemirror_mode": {
    "name": "ipython",
    "version": 3
   },
   "file_extension": ".py",
   "mimetype": "text/x-python",
   "name": "python",
   "nbconvert_exporter": "python",
   "pygments_lexer": "ipython3",
   "version": "3.11.2"
  },
  "orig_nbformat": 4,
  "vscode": {
   "interpreter": {
    "hash": "69713e280fccb9aa802931bf1b98f79efcfe938b3ab1e86cc85b2e647522a81d"
   }
  }
 },
 "nbformat": 4,
 "nbformat_minor": 2
}
