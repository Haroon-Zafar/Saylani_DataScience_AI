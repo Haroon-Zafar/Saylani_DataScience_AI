{
  "cells": [
    {
      "cell_type": "markdown",
      "metadata": {
        "colab_type": "text",
        "id": "view-in-github"
      },
      "source": [
        "<a href=\"https://colab.research.google.com/github/Haroon-Zafar/Saylani_DataScience_AI/blob/main/PracticeAssignment2(CONDITIONALS)_.ipynb\" target=\"_parent\"><img src=\"https://colab.research.google.com/assets/colab-badge.svg\" alt=\"Open In Colab\"/></a>"
      ]
    },
    {
      "cell_type": "raw",
      "metadata": {
        "id": "8rksu2_jMVjQ"
      },
      "source": [
        "1) A company decided to give bonus of 5% to employee if his/her year of service is more than 5 years.\n",
        "Ask user for their salary and year of service and print the net bonus amount."
      ]
    },
    {
      "cell_type": "code",
      "execution_count": 8,
      "metadata": {
        "id": "_GRPHPiLMVjX"
      },
      "outputs": [
        {
          "name": "stdout",
          "output_type": "stream",
          "text": [
            "Your Net Bonus Amount is : Rs.  1000.0\n"
          ]
        }
      ],
      "source": [
        "#Type your code here\n",
        "\n",
        "yearOfService = float(input(\"Enter Year of Service : \"))\n",
        "userSalary = float(input(\"Enter Your Salary : \"))\n",
        "\n",
        "bonusPercentage = float(input(\"Enter Bonus Percentage : \"))\n",
        "\n",
        "if yearOfService > 5.0:\n",
        "    \n",
        "    netBonusAmount = (userSalary * bonusPercentage) / 100\n",
        "    print(\"Your Net Bonus Amount is : Rs. \", netBonusAmount)\n",
        "\n",
        "else:\n",
        "    print(\"You are not eligible for bonus\")\n"
      ]
    },
    {
      "cell_type": "markdown",
      "metadata": {
        "id": "iXt5RVcjMVja"
      },
      "source": [
        "\n",
        "2) Write a program to check whether a person is eligible for voting or not. (accept age from user)"
      ]
    },
    {
      "cell_type": "code",
      "execution_count": 9,
      "metadata": {
        "id": "jXVCvia3MVjh"
      },
      "outputs": [
        {
          "name": "stdout",
          "output_type": "stream",
          "text": [
            "You are eligible to vote\n"
          ]
        }
      ],
      "source": [
        "#Type your code here\n",
        "\n",
        "userAge = int(input(\"Enter Your Age : \")) # `int` Because age can never be float you can not be 18.3 years old.\n",
        "\n",
        "if userAge >= 18:\n",
        "    print(\"You are eligible to vote\")\n",
        "else:\n",
        "    print(\"You are not eligible to vote\")"
      ]
    },
    {
      "cell_type": "markdown",
      "metadata": {
        "id": "IkNM7QpCMVjj"
      },
      "source": [
        "3) Write a program to check whether a number entered by user is even or odd.\n",
        "\n",
        "Hint: Use modulo operator (%) to check remainder when divideing with 2 , if remainder is 0 even, else odd "
      ]
    },
    {
      "cell_type": "code",
      "execution_count": 12,
      "metadata": {
        "id": "-GxviwByMVjl"
      },
      "outputs": [
        {
          "name": "stdout",
          "output_type": "stream",
          "text": [
            "Number is Even\n"
          ]
        }
      ],
      "source": [
        "#Type your code here\n",
        "\n",
        "userInputNumber = int(input(\"Enter a number : \"))\n",
        "\n",
        "if userInputNumber % 2 == 0 :\n",
        "    print(\"Number is Even\")\n",
        "else:\n",
        "    print(\"Number is Odd\")"
      ]
    },
    {
      "cell_type": "markdown",
      "metadata": {
        "id": "_jEHjkfdMVjm"
      },
      "source": [
        "4) Write a program to check whether a number is divisible by 7 or not.\n",
        "\n",
        "Hint: Use modulo operator (%) to check remainder when divideing with 7 , if remainder is 0 divisible, else not divisible"
      ]
    },
    {
      "cell_type": "code",
      "execution_count": 15,
      "metadata": {
        "id": "IRNXyG1GMVjo"
      },
      "outputs": [
        {
          "name": "stdout",
          "output_type": "stream",
          "text": [
            "Number is not Divisible by 7\n"
          ]
        }
      ],
      "source": [
        "#Type your code here\n",
        "\n",
        "userInputNumber = int(input(\"Enter a number : \"))\n",
        "\n",
        "if userInputNumber % 7 == 0 :\n",
        "    print(\"Number is Divisible by 7\")\n",
        "\n",
        "else:\n",
        "    print(\"Number is not Divisible by 7\")\n"
      ]
    },
    {
      "cell_type": "markdown",
      "metadata": {
        "id": "XxfyVe4kMVjp"
      },
      "source": [
        "5) Write a program to display \n",
        "\"Hello\" if a number entered by user is a multiple of five , otherwise print \"Bye\".\n",
        "Hint : modulo operator"
      ]
    },
    {
      "cell_type": "code",
      "execution_count": 19,
      "metadata": {
        "id": "Ixnz4R4TMVjr"
      },
      "outputs": [
        {
          "name": "stdout",
          "output_type": "stream",
          "text": [
            "Bye\n"
          ]
        }
      ],
      "source": [
        "#Type your code here\n",
        "\n",
        "userInputNumber = int(input(\"Enter a number : \"))\n",
        "\n",
        "if userInputNumber % 5 == 0 :\n",
        "    print(\"Hello\")\n",
        "    \n",
        "else:\n",
        "    print(\"Bye\")"
      ]
    },
    {
      "cell_type": "raw",
      "metadata": {
        "id": "qfzRUUwOMVjs"
      },
      "source": [
        "6) Write a program to calculate the electricity bill (accept number of unit from user) \n",
        "according to the following criteria :\n",
        "     Unit                                                     Price  \n",
        "upto 100 units                                              no charge\n",
        "Next 200 units                                              Rs 5 per unit\n",
        "After 300 units                                             Rs 10 per unit\n",
        "(For example if input unit is 350 than total bill amount is Rs.1500\n",
        "(For example if input unit is 97 than total bill amount is Rs.0\n",
        "(For example if input unit is 150 than total bill amount is Rs.250"
      ]
    },
    {
      "cell_type": "code",
      "execution_count": 23,
      "metadata": {
        "id": "1BY1oAIpMVju",
        "outputId": "0a7883cc-0198-4688-93cc-247fa3db5cbe"
      },
      "outputs": [
        {
          "name": "stdout",
          "output_type": "stream",
          "text": [
            "500\n"
          ]
        }
      ],
      "source": [
        "#Type your code here\n",
        "units = int(input(\"Number of units comsumed: \"))\n",
        "billAmount = None\n",
        "\n",
        "if units <=100:\n",
        "    billAmount = units* 0\n",
        "elif units <=300:\n",
        "    billAmount = (units-100)*5\n",
        "elif units >300:\n",
        "    billAmount = (units-300)*10 + 200*5\n",
        "print(billAmount)"
      ]
    },
    {
      "cell_type": "code",
      "execution_count": 24,
      "metadata": {
        "id": "upoifBKiO1zT",
        "outputId": "56a7daaa-bc49-4c13-f274-6ee558fb40f4"
      },
      "outputs": [
        {
          "name": "stdout",
          "output_type": "stream",
          "text": [
            "your total bill is Rs.1000\n"
          ]
        }
      ],
      "source": [
        "electricity_unit = int(input(\"Enter your units consumed \"))\n",
        "electricity_bill = None\n",
        "slab_1_units = 100\n",
        "slab_2_units = 300\n",
        "slab_1_rate = 0\n",
        "slab_2_rate = 5\n",
        "slab_3_rate = 10\n",
        "maximum_slab_1_amount = 0\n",
        "maximum_slab_2_amount = 1000\n",
        "if electricity_unit <= 100:\n",
        "    electricity_bill = slab_1_units * slab_1_rate \n",
        "    print(f'''your total bill is Rs.{electricity_bill}''' )\n",
        "elif electricity_unit <=300:\n",
        "    electricity_bill = maximum_slab_1_amount + (electricity_unit-slab_1_units) * slab_2_rate\n",
        "    print(f'''your total bill is Rs.{electricity_bill}''' )\n",
        "else:\n",
        "    electricity_bill = maximum_slab_1_amount + maximum_slab_2_amount + (electricity_unit-slab_2_units)*slab_3_rate\n",
        "    print(f'''your total bill is Rs.{electricity_bill}''' )\n",
        "\n"
      ]
    },
    {
      "cell_type": "raw",
      "metadata": {
        "id": "msAIDMRDMVjv"
      },
      "source": [
        "7) Write a program to display the last digit of a number."
      ]
    },
    {
      "cell_type": "code",
      "execution_count": 35,
      "metadata": {
        "id": "VQwLuGzbMVjv",
        "outputId": "113fe857-39ad-466d-c9eb-12326c90db56"
      },
      "outputs": [
        {
          "data": {
            "text/plain": [
              "'2'"
            ]
          },
          "execution_count": 35,
          "metadata": {},
          "output_type": "execute_result"
        }
      ],
      "source": [
        "#Type your code here\n",
        "\n",
        "numberInput = str(input(\"Enter a number : \"))\n",
        "\n",
        "# print(type(numberInput))\n",
        "\n",
        "# Using Slicing\n",
        "numberInput[-1:-2:-1]"
      ]
    },
    {
      "cell_type": "raw",
      "metadata": {
        "id": "UeLHzVZ_MVjw"
      },
      "source": [
        "Q8. Write a program to check whether the last digit of a number( entered by user ) is \n",
        "divisible by 3 or not."
      ]
    },
    {
      "cell_type": "code",
      "execution_count": 37,
      "metadata": {
        "id": "KiQ5wnc6MVjx"
      },
      "outputs": [
        {
          "name": "stdout",
          "output_type": "stream",
          "text": [
            "Bye\n"
          ]
        }
      ],
      "source": [
        "#Type your code here\n",
        "\n",
        "numberInput = str(input(\"Enter a number : \"))\n",
        "\n",
        "# print(type(numberInput))\n",
        "\n",
        "# Using Slicing\n",
        "# numberInput[-1:-2:-1]\n",
        "\n",
        "if int(numberInput[-1:-2:-1]) % 3 == 0 :\n",
        "    print(\"Hello\")\n",
        "    \n",
        "else:\n",
        "    print(\"Bye\")\n",
        "\n"
      ]
    },
    {
      "cell_type": "raw",
      "metadata": {
        "id": "CR4sMmRgMVjy"
      },
      "source": [
        "9) Take values of length and breadth of a rectangle from user and check if it is square or not."
      ]
    },
    {
      "cell_type": "code",
      "execution_count": 39,
      "metadata": {
        "id": "Oj1MT5fCMVjy"
      },
      "outputs": [
        {
          "name": "stdout",
          "output_type": "stream",
          "text": [
            "Not Square\n"
          ]
        }
      ],
      "source": [
        "#Type your code here \n",
        "length = int(input(\"Enter length : \"))\n",
        "breadth = int(input(\"Enter breadth : \"))\n",
        "\n",
        "\n",
        "if  length == breadth:\n",
        "    print(\"Square\")\n",
        "    \n",
        "else:\n",
        "    print(\"Not Square\")\n",
        "\n",
        "\n"
      ]
    },
    {
      "cell_type": "raw",
      "metadata": {
        "id": "B2e5VYbiMVjz"
      },
      "source": [
        "10) Take two int values from user and print greatest among them."
      ]
    },
    {
      "cell_type": "code",
      "execution_count": null,
      "metadata": {
        "id": "LyYYL78HMVj0"
      },
      "outputs": [],
      "source": [
        "# Type your code here"
      ]
    },
    {
      "cell_type": "raw",
      "metadata": {
        "id": "R9gMEjdQMVj1"
      },
      "source": [
        "11) A shop will give discount of 10% if the cost of purchased quantity is more than 1000.\n",
        "Ask user for quantity\n",
        "Suppose, one unit will cost 100.\n",
        "Judge and print total cost for user."
      ]
    },
    {
      "cell_type": "code",
      "execution_count": null,
      "metadata": {
        "id": "hjvEnOzxMVj2"
      },
      "outputs": [],
      "source": [
        "#Type your code here"
      ]
    },
    {
      "cell_type": "raw",
      "metadata": {
        "id": "yqYL7FZeMVj3"
      },
      "source": [
        "12) A school has following rules for grading system:\n",
        "\n",
        "a. Below 25 - F\n",
        "\n",
        "b. 25 to 45 - E\n",
        "\n",
        "c. 45 to 50 - D\n",
        "\n",
        "d. 50 to 60 - C\n",
        "\n",
        "e. 60 to 80 - B\n",
        "\n",
        "f. Above 80 - A\n",
        "\n",
        "Ask user to enter marks and print the corresponding grade."
      ]
    },
    {
      "cell_type": "code",
      "execution_count": null,
      "metadata": {
        "id": "he_r-bpOMVj4"
      },
      "outputs": [],
      "source": [
        "#Type your code here"
      ]
    },
    {
      "cell_type": "raw",
      "metadata": {
        "id": "IUJjt9NbMVj4"
      },
      "source": [
        "13) Take input of age of 3 people by user and determine oldest and youngest among them."
      ]
    },
    {
      "cell_type": "code",
      "execution_count": null,
      "metadata": {
        "id": "vlre5Ck0MVj4",
        "outputId": "2a818941-43cb-40e7-b7b6-41f8e00020c0"
      },
      "outputs": [
        {
          "name": "stdout",
          "output_type": "stream",
          "text": [
            "Enter an age100\n",
            "Enter another age100\n",
            "Enter further age100\n",
            "oldest is 100\n",
            "youngest is 100\n"
          ]
        }
      ],
      "source": [
        "#Type your code here\n",
        "\n",
        "age1 = int(input(\"Enter an age\"))\n",
        "age2 = int(input(\"Enter another age\"))\n",
        "age3 = int(input(\"Enter further age\"))\n",
        "oldest = None\n",
        "youngest = None\n",
        "\n",
        "if (age1 > age2) and (age1> age3):\n",
        "    oldest = age1\n",
        "    \n",
        "elif (age2>age1) and (age2>age3):\n",
        "    oldest = age2\n",
        "    \n",
        "else:\n",
        "    oldest = age3\n",
        "\n",
        "if (age1 < age2) and (age1< age3):\n",
        "    youngest = age1\n",
        "    \n",
        "elif (age2<age1) and (age2<age3):\n",
        "    youngest = age2\n",
        "    \n",
        "else:\n",
        "    youngest = age3\n",
        "\n",
        "print(f\"oldest is {oldest}\")\n",
        "print(f\"youngest is {youngest}\")"
      ]
    },
    {
      "cell_type": "code",
      "execution_count": null,
      "metadata": {
        "id": "i9qRwVmgO1zz",
        "outputId": "1940789e-6514-4160-80a2-6a5caebc9eb1"
      },
      "outputs": [
        {
          "name": "stdout",
          "output_type": "stream",
          "text": [
            "Enter 3 comma seaprates ages to comapre2,3,f\n",
            "['2', '3', 'f']\n",
            "oldest is f\n",
            "youngest is 2\n"
          ]
        }
      ],
      "source": [
        "ages  = input(\"Enter 3 comma seaprates ages to comapre\").split(\",\")\n",
        "print(ages)\n",
        "print(f\"oldest is {max(ages)}\")\n",
        "print(f\"youngest is {min(ages)}\")\n",
        "\n"
      ]
    },
    {
      "cell_type": "raw",
      "metadata": {
        "id": "Zc9ovDhsMVj5"
      },
      "source": [
        "14)A student will not be allowed to sit in exam if his/her attendence is less than 75%.\n",
        "\n",
        "Take following input from user\n",
        "\n",
        "Number of classes held\n",
        "\n",
        "Number of classes attended.\n",
        "\n",
        "And print\n",
        "\n",
        "percentage of class attended\n",
        "\n",
        "Is student is allowed to sit in exam or not.\n"
      ]
    },
    {
      "cell_type": "code",
      "execution_count": null,
      "metadata": {
        "id": "rseYum2_MVj6"
      },
      "outputs": [],
      "source": [
        "#Type your code here"
      ]
    },
    {
      "cell_type": "raw",
      "metadata": {
        "id": "58UPPHAOMVj6"
      },
      "source": [
        "15) Modify the above question to allow student to sit if he/she has medical cause. Ask user if he/she has medical cause or not ( 'Y' or 'N' ) and print accordingly."
      ]
    },
    {
      "cell_type": "code",
      "execution_count": null,
      "metadata": {
        "id": "lDi-xLzTMVj7"
      },
      "outputs": [],
      "source": [
        "#Type your code here"
      ]
    },
    {
      "cell_type": "raw",
      "metadata": {
        "id": "kJtSy1EoMVj7"
      },
      "source": [
        "16) Write a program to check if a year is leap year or not.\n",
        "\n",
        "If a year is divisible by 4 then it is leap year but if the year is century year like 2000, 1900, 2100 then it must be divisible by 400."
      ]
    },
    {
      "cell_type": "code",
      "execution_count": null,
      "metadata": {
        "id": "QUL_YUX3MVj7"
      },
      "outputs": [],
      "source": [
        "#Type your code here"
      ]
    },
    {
      "cell_type": "raw",
      "metadata": {
        "id": "CCNg4yDDMVj8"
      },
      "source": [
        "17) Ask user to enter age, gender ( M or F ), marital status ( Y or N ) and then using following rules print their place of service.\n",
        "\n",
        "if employee is female, then she will work only in urban areas.\n",
        "\n",
        "if employee is a male and age is in between 20 to 40 then he may work in anywhere\n",
        "\n",
        "if employee is male and age is in between 40 t0 60 then he will work in urban areas only.\n",
        "\n",
        "And any other input of age should print \"ERROR\""
      ]
    },
    {
      "cell_type": "code",
      "execution_count": null,
      "metadata": {
        "id": "RDWMB0CZMVj8"
      },
      "outputs": [],
      "source": [
        "#Type your code here"
      ]
    },
    {
      "cell_type": "code",
      "execution_count": null,
      "metadata": {
        "id": "IamExyMDO10G"
      },
      "outputs": [],
      "source": []
    }
  ],
  "metadata": {
    "colab": {
      "include_colab_link": true,
      "provenance": []
    },
    "kernelspec": {
      "display_name": "Python 3.11.2 64-bit",
      "language": "python",
      "name": "python3"
    },
    "language_info": {
      "codemirror_mode": {
        "name": "ipython",
        "version": 3
      },
      "file_extension": ".py",
      "mimetype": "text/x-python",
      "name": "python",
      "nbconvert_exporter": "python",
      "pygments_lexer": "ipython3",
      "version": "3.11.2"
    },
    "vscode": {
      "interpreter": {
        "hash": "69713e280fccb9aa802931bf1b98f79efcfe938b3ab1e86cc85b2e647522a81d"
      }
    }
  },
  "nbformat": 4,
  "nbformat_minor": 0
}
