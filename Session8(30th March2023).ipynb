{
 "cells": [
  {
   "cell_type": "markdown",
   "id": "4f7442f2",
   "metadata": {},
   "source": [
    "# Modules"
   ]
  },
  {
   "cell_type": "code",
   "execution_count": null,
   "id": "f0b2ad21",
   "metadata": {},
   "outputs": [],
   "source": [
    "%run textpreprocessing.py"
   ]
  },
  {
   "cell_type": "code",
   "execution_count": null,
   "id": "e7f6c04e",
   "metadata": {},
   "outputs": [],
   "source": [
    "import textpreprocessing"
   ]
  },
  {
   "cell_type": "code",
   "execution_count": null,
   "id": "e42f83dc",
   "metadata": {},
   "outputs": [],
   "source": [
    "textpreprocessing.build_profile('nasir','hussain', location='Karachi')"
   ]
  },
  {
   "cell_type": "code",
   "execution_count": null,
   "id": "af14dd2d",
   "metadata": {},
   "outputs": [],
   "source": [
    "textpreprocessing.build_profile('ali','jamal', degree=\"CS\", location=\"Karachi\",email=\"alij@gmail.com\")"
   ]
  },
  {
   "cell_type": "code",
   "execution_count": null,
   "id": "458da6f4",
   "metadata": {},
   "outputs": [],
   "source": [
    "textpreprocessing.orderPizza('L','olive','mushroom' )"
   ]
  },
  {
   "cell_type": "code",
   "execution_count": null,
   "id": "9bc1bc96",
   "metadata": {},
   "outputs": [],
   "source": [
    "def words_count(txt):\n",
    "    words_lst = txt.split(\" \")\n",
    "    return len(words_lst)    "
   ]
  },
  {
   "cell_type": "code",
   "execution_count": null,
   "id": "819e8f03",
   "metadata": {},
   "outputs": [],
   "source": [
    "import string\n",
    "def chars_count(txt):\n",
    "    punc  = string.punctuation \n",
    "    p_txt =''\n",
    "    for c in txt:\n",
    "        if (c!= ' ') and (c not in punc):\n",
    "            p_txt +=c\n",
    "    print(p_txt)\n",
    "    return len(p_txt)"
   ]
  },
  {
   "cell_type": "code",
   "execution_count": null,
   "id": "94527bdc",
   "metadata": {},
   "outputs": [],
   "source": [
    "chars_count(\"mushroom is , not availale' Your (L) inches pizza is ?ready with ['olive']\")"
   ]
  },
  {
   "cell_type": "code",
   "execution_count": null,
   "id": "136a7ee3",
   "metadata": {},
   "outputs": [],
   "source": [
    "from textpreprocessing "
   ]
  },
  {
   "cell_type": "code",
   "execution_count": null,
   "id": "7678643f",
   "metadata": {},
   "outputs": [],
   "source": [
    "orderPizza()"
   ]
  },
  {
   "cell_type": "code",
   "execution_count": null,
   "id": "54a7ec82",
   "metadata": {},
   "outputs": [],
   "source": [
    "import textpreprocessing as tp"
   ]
  },
  {
   "cell_type": "code",
   "execution_count": null,
   "id": "fba873de",
   "metadata": {},
   "outputs": [],
   "source": [
    "import textpreprocessing"
   ]
  },
  {
   "cell_type": "code",
   "execution_count": null,
   "id": "6bb7ef6a",
   "metadata": {},
   "outputs": [],
   "source": [
    "textpreprocessing.orderPizza()"
   ]
  },
  {
   "cell_type": "code",
   "execution_count": null,
   "id": "24e24a97",
   "metadata": {},
   "outputs": [],
   "source": [
    "import textpreprocessing"
   ]
  },
  {
   "cell_type": "code",
   "execution_count": null,
   "id": "7da03e21",
   "metadata": {},
   "outputs": [],
   "source": [
    "textpreprocessing.add()"
   ]
  },
  {
   "cell_type": "code",
   "execution_count": 1,
   "id": "ceb69407",
   "metadata": {},
   "outputs": [
    {
     "ename": "SyntaxError",
     "evalue": "invalid syntax (textpreprocessing.py, line 40)",
     "output_type": "error",
     "traceback": [
      "\u001b[1;36m  File \u001b[1;32m\"G:\\Saylani-AI-Batch4(2023)\\textpreprocessing.py\"\u001b[1;36m, line \u001b[1;32m40\u001b[0m\n\u001b[1;33m    deef add():\u001b[0m\n\u001b[1;37m           ^\u001b[0m\n\u001b[1;31mSyntaxError\u001b[0m\u001b[1;31m:\u001b[0m invalid syntax\n"
     ]
    }
   ],
   "source": [
    "%run textpreprocessing.py"
   ]
  },
  {
   "cell_type": "code",
   "execution_count": 2,
   "id": "d63e2b0b",
   "metadata": {},
   "outputs": [
    {
     "ename": "SyntaxError",
     "evalue": "invalid syntax (textpreprocessing.py, line 40)",
     "output_type": "error",
     "traceback": [
      "Traceback \u001b[1;36m(most recent call last)\u001b[0m:\n",
      "  File \u001b[0;32m\"C:\\Users\\Nasir Hussain\\Anaconda3\\lib\\site-packages\\IPython\\core\\interactiveshell.py\"\u001b[0m, line \u001b[0;32m3326\u001b[0m, in \u001b[0;35mrun_code\u001b[0m\n    exec(code_obj, self.user_global_ns, self.user_ns)\n",
      "\u001b[1;36m  File \u001b[1;32m\"<ipython-input-2-1c70874b82e0>\"\u001b[1;36m, line \u001b[1;32m1\u001b[1;36m, in \u001b[1;35m<module>\u001b[1;36m\u001b[0m\n\u001b[1;33m    import textpreprocessing\u001b[0m\n",
      "\u001b[1;36m  File \u001b[1;32m\"G:\\Saylani-AI-Batch4(2023)\\textpreprocessing.py\"\u001b[1;36m, line \u001b[1;32m40\u001b[0m\n\u001b[1;33m    deef add():\u001b[0m\n\u001b[1;37m           ^\u001b[0m\n\u001b[1;31mSyntaxError\u001b[0m\u001b[1;31m:\u001b[0m invalid syntax\n"
     ]
    }
   ],
   "source": [
    "import textpreprocessing"
   ]
  },
  {
   "cell_type": "code",
   "execution_count": null,
   "id": "f1504326",
   "metadata": {},
   "outputs": [],
   "source": [
    "# %load textpreprocessing.py\n",
    "\n",
    "# print(\"Module execurtedddd......\")\n",
    "# def orderPizza(size, *toppings):\n",
    "#     '''\n",
    "#     This function takes int value of size\n",
    "#     Size: S, M , L EXL\n",
    "#     and an arbitarary argument Toppings \n",
    "#     Toppings: a,b,c,d,f,g,r,t,y,u\n",
    "#     This finction returns your ordered pizza \n",
    "#     '''\n",
    "#     toppings_avialable = ['mushrrom', 'olive','chhesse', 'garlic','capchica']\n",
    "#     applied_toppings=[]\n",
    "#     for top in toppings:\n",
    "#         if top not in toppings_avialable:\n",
    "#             print(f\"{top} is not availale\")\n",
    "#         else:\n",
    "#             applied_toppings.append(top)\n",
    "            \n",
    "#     return f\"Your {size} inches pizza is ready with {applied_toppings}\"\n",
    "    \n",
    "\n",
    "# def build_profile(first, last, **user_info):\n",
    "#     ''' \n",
    "       \n",
    "#     this function takes a string value of name , last name and keyword arguments for profile other info\n",
    "    \n",
    "#     first : str\n",
    "#     last : str \n",
    "#     user info : keyword aguments\n",
    "    \n",
    "#     '''\n",
    "\n",
    "#     profile = {}\n",
    "#     profile['first_name'] = first\n",
    "#     profile['last_name'] = last\n",
    "#     profile.update(user_info)\n",
    "#     return profile\n",
    "    \n",
    "\n",
    "deef add():\n",
    "    print(add)\n",
    "    \n",
    "    \n",
    "    \n",
    "    \n",
    "    \n",
    "    \n",
    "    \n",
    "    \n",
    "    \n",
    "    \n",
    "    \n",
    "    \n",
    "    \n",
    "    \n",
    "    \n",
    "    \n",
    "    \n",
    "    \n",
    "    \n",
    "    \n",
    "    \n",
    "    "
   ]
  },
  {
   "cell_type": "code",
   "execution_count": null,
   "id": "2442c672",
   "metadata": {},
   "outputs": [],
   "source": []
  }
 ],
 "metadata": {
  "kernelspec": {
   "display_name": "Python 3",
   "language": "python",
   "name": "python3"
  },
  "language_info": {
   "codemirror_mode": {
    "name": "ipython",
    "version": 3
   },
   "file_extension": ".py",
   "mimetype": "text/x-python",
   "name": "python",
   "nbconvert_exporter": "python",
   "pygments_lexer": "ipython3",
   "version": "3.7.4"
  }
 },
 "nbformat": 4,
 "nbformat_minor": 5
}
