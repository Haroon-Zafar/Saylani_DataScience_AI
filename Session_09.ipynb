{
 "cells": [
  {
   "cell_type": "markdown",
   "metadata": {},
   "source": [
    "Practice Assignment Questions"
   ]
  },
  {
   "cell_type": "code",
   "execution_count": 10,
   "metadata": {},
   "outputs": [],
   "source": [
    "# Number and Squares in a dictionary\n",
    "\n",
    "def createNumberDictionaries(numberLimit):\n",
    "    \n",
    "    # Initializing Dictionary\n",
    "    \n",
    "    numberAndSquaredDictionary = {}\n",
    "    for i in range(1, numberLimit + 1 ):\n",
    "        # getting squared Number\n",
    "        squaredIntegerNumber = i * i\n",
    "        \n",
    "        numberAndSquaredDictionary [i] = squaredIntegerNumber\n",
    "    # print(numberAndSquaredDictionary) # >> print(createNumberDictionaries(5)) >> {1: 1, 2: 4, 3: 9, 4: 16, 5: 25} None\n",
    "    return(numberAndSquaredDictionary) # >> print(createNumberDictionaries(5)) >> {1: 1, 2: 4, 3: 9, 4: 16, 5: 25}\n",
    "        \n",
    "    "
   ]
  },
  {
   "cell_type": "code",
   "execution_count": 11,
   "metadata": {},
   "outputs": [
    {
     "data": {
      "text/plain": [
       "{1: 1, 2: 4, 3: 9, 4: 16, 5: 25}"
      ]
     },
     "execution_count": 11,
     "metadata": {},
     "output_type": "execute_result"
    }
   ],
   "source": [
    "createNumberDictionaries(5)"
   ]
  },
  {
   "cell_type": "code",
   "execution_count": 12,
   "metadata": {},
   "outputs": [
    {
     "name": "stdout",
     "output_type": "stream",
     "text": [
      "{1: 1, 2: 4, 3: 9, 4: 16, 5: 25}\n"
     ]
    }
   ],
   "source": [
    "print(createNumberDictionaries(5))"
   ]
  },
  {
   "cell_type": "code",
   "execution_count": null,
   "metadata": {},
   "outputs": [],
   "source": []
  }
 ],
 "metadata": {
  "kernelspec": {
   "display_name": "Python 3.11.2 64-bit",
   "language": "python",
   "name": "python3"
  },
  "language_info": {
   "codemirror_mode": {
    "name": "ipython",
    "version": 3
   },
   "file_extension": ".py",
   "mimetype": "text/x-python",
   "name": "python",
   "nbconvert_exporter": "python",
   "pygments_lexer": "ipython3",
   "version": "3.11.2"
  },
  "orig_nbformat": 4,
  "vscode": {
   "interpreter": {
    "hash": "69713e280fccb9aa802931bf1b98f79efcfe938b3ab1e86cc85b2e647522a81d"
   }
  }
 },
 "nbformat": 4,
 "nbformat_minor": 2
}
