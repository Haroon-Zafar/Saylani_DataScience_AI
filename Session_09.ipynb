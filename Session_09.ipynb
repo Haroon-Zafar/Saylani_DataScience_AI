{
 "cells": [
  {
   "cell_type": "markdown",
   "metadata": {},
   "source": [
    "Practice Assignment Questions"
   ]
  },
  {
   "cell_type": "code",
   "execution_count": 10,
   "metadata": {},
   "outputs": [],
   "source": [
    "# Number and Squares in a dictionary\n",
    "\n",
    "def createNumberDictionaries(numberLimit):\n",
    "    \n",
    "    # Initializing Dictionary\n",
    "    \n",
    "    numberAndSquaredDictionary = {}\n",
    "    for i in range(1, numberLimit + 1 ):\n",
    "        # getting squared Number\n",
    "        squaredIntegerNumber = i * i\n",
    "        \n",
    "        numberAndSquaredDictionary [i] = squaredIntegerNumber\n",
    "    # print(numberAndSquaredDictionary) # >> print(createNumberDictionaries(5)) >> {1: 1, 2: 4, 3: 9, 4: 16, 5: 25} None\n",
    "    return(numberAndSquaredDictionary) # >> print(createNumberDictionaries(5)) >> {1: 1, 2: 4, 3: 9, 4: 16, 5: 25}\n",
    "        \n",
    "    "
   ]
  },
  {
   "cell_type": "code",
   "execution_count": 11,
   "metadata": {},
   "outputs": [
    {
     "data": {
      "text/plain": [
       "{1: 1, 2: 4, 3: 9, 4: 16, 5: 25}"
      ]
     },
     "execution_count": 11,
     "metadata": {},
     "output_type": "execute_result"
    }
   ],
   "source": [
    "createNumberDictionaries(5)"
   ]
  },
  {
   "cell_type": "code",
   "execution_count": 12,
   "metadata": {},
   "outputs": [
    {
     "name": "stdout",
     "output_type": "stream",
     "text": [
      "{1: 1, 2: 4, 3: 9, 4: 16, 5: 25}\n"
     ]
    }
   ],
   "source": [
    "print(createNumberDictionaries(5))"
   ]
  },
  {
   "cell_type": "markdown",
   "metadata": {},
   "source": [
    "You need to write a code which accepts a sequence of comma separated 4 digit binary numbers as it's input and then check whether they are divisisble by 5 or not. The numbers that are divisible by 5 are to be printed in a comma separated sequence. "
   ]
  },
  {
   "cell_type": "code",
   "execution_count": 37,
   "metadata": {},
   "outputs": [],
   "source": [
    "# First we have to separate 4 digit Binary Commas from the Input\n",
    "\n",
    "\n",
    "def binaryToDecimal(fourDigitBinaryNumbers):\n",
    "\n",
    "    withoutCommasFourDigitBinaryNumber = \"\"\n",
    "\n",
    "    decimalDigitString = \"\"\n",
    "    power = 3\n",
    "    convertedNumber = 0\n",
    "    summedNumber = 0\n",
    "    for i in fourDigitBinaryNumbers:\n",
    "        # we can either use split() to handle commas or use replace() to replace commas with spaces\n",
    "        # but here we are using basic logic to handle commas\n",
    "        if i != \",\":\n",
    "            # withoutCommasFourDigitBinaryNumber += i\n",
    "            # print(withoutCommasFourDigitBinaryNumber)\n",
    "            convertedNumber = int(i) * (2 ** power)\n",
    "            summedNumber += convertedNumber\n",
    "            power -= 1\n",
    "        # print(withoutCommasFourDigitBinaryNumber)\n",
    "    return(summedNumber)\n",
    "    \n",
    "    \n",
    "    \n",
    "# fourDigitBinaryNumbers = input(\"Enter Four Digit Binary Numbers Separated By Commas: \")\n",
    "# convertedDecimalNumber = binaryToDecimal(fourDigitBinaryNumbers)    "
   ]
  },
  {
   "cell_type": "code",
   "execution_count": 51,
   "metadata": {},
   "outputs": [],
   "source": [
    "fourDigitBinaryNumbers = input(\"Enter Four Digit Binary Numbers Separated By Commas: \")"
   ]
  },
  {
   "cell_type": "code",
   "execution_count": 52,
   "metadata": {},
   "outputs": [
    {
     "name": "stdout",
     "output_type": "stream",
     "text": [
      "1\n",
      "11\n",
      "111\n",
      "1111\n",
      "\n",
      "1\n",
      "10\n",
      "100\n",
      "1000\n",
      "\n",
      "1\n",
      "10\n",
      "100\n",
      "1001\n",
      "\n",
      "0\n",
      "00\n",
      "000\n",
      "0000\n"
     ]
    }
   ],
   "source": [
    "def checkingNumberSDivisbileByFive(fourDigitBinaryNumbers):\n",
    "    \n",
    "    commaSeparatedNumber = \"\"   \n",
    "    \n",
    "    for i in fourDigitBinaryNumbers:\n",
    "\n",
    "        if i == \",\":\n",
    "            # Resetting commaSeparatedNumber\n",
    "            commaSeparatedNumber = \"\"   \n",
    "            \n",
    "            # print(binaryToDecimal(i))\n",
    "\n",
    "        else:\n",
    "            commaSeparatedNumber += i\n",
    "            # print(i, end=\"\")\n",
    "\n",
    "        print(commaSeparatedNumber)\n",
    "\n",
    "checkingNumberSDivisbileByFive(fourDigitBinaryNumbers)    \n",
    "    "
   ]
  },
  {
   "cell_type": "markdown",
   "metadata": {},
   "source": [
    "    File Handling "
   ]
  },
  {
   "cell_type": "code",
   "execution_count": 53,
   "metadata": {},
   "outputs": [],
   "source": [
    "userInput = input(\"Enter Your name: \")"
   ]
  },
  {
   "cell_type": "code",
   "execution_count": 68,
   "metadata": {},
   "outputs": [],
   "source": [
    "with open(\"Session_09.txt\", \"w\") as file:\n",
    "    file.write(userInput)\n",
    "    nth = 0\n",
    "    file.write(\"\\nThis is the Second Line\")\n",
    "    file.write(\"\\nThis is the f'nth' Line\")\n",
    "    file.write(\"\\nThis is the f{nth} Line\")\n",
    "    file.write(\"\\nThis is the f{nth} Line\")\n",
    "    \n",
    "    file.close()"
   ]
  },
  {
   "cell_type": "code",
   "execution_count": 69,
   "metadata": {},
   "outputs": [
    {
     "name": "stdout",
     "output_type": "stream",
     "text": [
      "Muhammad Haroon Zafar\n",
      "This is the Second Line\n",
      "This is the f'nth' Line\n",
      "This is the f{nth} Line\n",
      "This is the f{nth} Line\n"
     ]
    }
   ],
   "source": [
    "# Reading the File. \n",
    "f = open(\"Session_09.txt\", \"r\")\n",
    "print(f.read())"
   ]
  },
  {
   "cell_type": "code",
   "execution_count": 71,
   "metadata": {},
   "outputs": [],
   "source": [
    "fileObject = open(\"Session_09.txt\", \"w\")\n",
    "fileObject.write(\"This is the Last Line\")\n",
    "fileObject.close()\n"
   ]
  },
  {
   "cell_type": "code",
   "execution_count": 72,
   "metadata": {},
   "outputs": [
    {
     "ename": "ValueError",
     "evalue": "I/O operation on closed file.",
     "output_type": "error",
     "traceback": [
      "\u001b[1;31m---------------------------------------------------------------------------\u001b[0m",
      "\u001b[1;31mValueError\u001b[0m                                Traceback (most recent call last)",
      "Cell \u001b[1;32mIn[72], line 1\u001b[0m\n\u001b[1;32m----> 1\u001b[0m fileObject\u001b[39m.\u001b[39;49mwrite(\u001b[39m\"\u001b[39;49m\u001b[39mThis is the Lastasd Line\u001b[39;49m\u001b[39m\"\u001b[39;49m)\n",
      "\u001b[1;31mValueError\u001b[0m: I/O operation on closed file."
     ]
    }
   ],
   "source": [
    "fileObject.write(\"This is the Lastasd Line\")\n",
    "# ValueError: I/O operation on closed file. \n",
    "# Reason is that we have closed the file in the previous line."
   ]
  },
  {
   "cell_type": "code",
   "execution_count": null,
   "metadata": {},
   "outputs": [],
   "source": []
  }
 ],
 "metadata": {
  "kernelspec": {
   "display_name": "Python 3.11.2 64-bit",
   "language": "python",
   "name": "python3"
  },
  "language_info": {
   "codemirror_mode": {
    "name": "ipython",
    "version": 3
   },
   "file_extension": ".py",
   "mimetype": "text/x-python",
   "name": "python",
   "nbconvert_exporter": "python",
   "pygments_lexer": "ipython3",
   "version": "3.11.2"
  },
  "orig_nbformat": 4,
  "vscode": {
   "interpreter": {
    "hash": "69713e280fccb9aa802931bf1b98f79efcfe938b3ab1e86cc85b2e647522a81d"
   }
  }
 },
 "nbformat": 4,
 "nbformat_minor": 2
}
