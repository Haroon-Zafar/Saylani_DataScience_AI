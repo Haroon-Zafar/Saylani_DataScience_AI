{
 "cells": [
  {
   "cell_type": "markdown",
   "metadata": {},
   "source": [
    "List Comprehension \n",
    "\n",
    "    List comprehension offers a shorter syntax when you want to create a new list based on the values of an existing list.\n",
    "\n",
    "\n",
    "    Syntax : \n",
    "        newlist = [expression for item in iterable if condition == True]"
   ]
  },
  {
   "cell_type": "code",
   "execution_count": 3,
   "metadata": {},
   "outputs": [],
   "source": [
    "lst = [1, 2, 3, 4, 5, 6, 7, 8, 9, 10]\n",
    "# evenList = []\n",
    "# oddList = []"
   ]
  },
  {
   "cell_type": "code",
   "execution_count": 13,
   "metadata": {},
   "outputs": [
    {
     "name": "stdout",
     "output_type": "stream",
     "text": [
      "Odd List [1, 3, 5, 7, 9, 1, 3, 5, 7, 9, 1, 3, 5, 7, 9] \n",
      " Even List [2, 4, 6, 8, 10, 2, 4, 6, 8, 10, 2, 4, 6, 8, 10]\n"
     ]
    }
   ],
   "source": [
    "# for i in lst:\n",
    "#     if i % 2 == 0:\n",
    "#         # print(\"Even\", i)\n",
    "#         evenList.append(i)\n",
    "#     else :\n",
    "#         # print(\"Odd\", i)\n",
    "#         oddList.append(i)\n",
    "\n",
    "\n",
    "# print(\"Odd List\", oddList, \"\\n\", \"Even List\", evenList)"
   ]
  },
  {
   "cell_type": "markdown",
   "metadata": {},
   "source": [
    "LIST COMPREHENSION EXAMPLE"
   ]
  },
  {
   "cell_type": "code",
   "execution_count": 14,
   "metadata": {},
   "outputs": [],
   "source": [
    "evenNumbersList = [num for num in lst if num % 2 == 0]"
   ]
  },
  {
   "cell_type": "code",
   "execution_count": 15,
   "metadata": {},
   "outputs": [
    {
     "data": {
      "text/plain": [
       "[2, 4, 6, 8, 10]"
      ]
     },
     "execution_count": 15,
     "metadata": {},
     "output_type": "execute_result"
    }
   ],
   "source": [
    "evenNumbersList"
   ]
  },
  {
   "cell_type": "code",
   "execution_count": 16,
   "metadata": {},
   "outputs": [],
   "source": [
    "oddNumbersList = [num for num in lst if num % 2 != 0]"
   ]
  },
  {
   "cell_type": "code",
   "execution_count": 17,
   "metadata": {},
   "outputs": [
    {
     "data": {
      "text/plain": [
       "[1, 3, 5, 7, 9]"
      ]
     },
     "execution_count": 17,
     "metadata": {},
     "output_type": "execute_result"
    }
   ],
   "source": [
    "oddNumbersList"
   ]
  },
  {
   "cell_type": "markdown",
   "metadata": {},
   "source": [
    "if and else combined in List Comprehension"
   ]
  },
  {
   "cell_type": "code",
   "execution_count": 21,
   "metadata": {},
   "outputs": [
    {
     "data": {
      "text/plain": [
       "[None, None, None, None, None, None, None, None, None, None]"
      ]
     },
     "execution_count": 21,
     "metadata": {},
     "output_type": "execute_result"
    }
   ],
   "source": [
    "evenList = []\n",
    "oddList = []\n",
    "[evenList.append(num) if num % 2 == 0 else oddList.append(num) for num in lst]"
   ]
  },
  {
   "cell_type": "code",
   "execution_count": 22,
   "metadata": {},
   "outputs": [
    {
     "data": {
      "text/plain": [
       "[2, 4, 6, 8, 10]"
      ]
     },
     "execution_count": 22,
     "metadata": {},
     "output_type": "execute_result"
    }
   ],
   "source": [
    "evenList"
   ]
  },
  {
   "cell_type": "code",
   "execution_count": 23,
   "metadata": {},
   "outputs": [
    {
     "data": {
      "text/plain": [
       "[1, 3, 5, 7, 9]"
      ]
     },
     "execution_count": 23,
     "metadata": {},
     "output_type": "execute_result"
    }
   ],
   "source": [
    "oddList"
   ]
  },
  {
   "cell_type": "code",
   "execution_count": 30,
   "metadata": {},
   "outputs": [
    {
     "data": {
      "text/plain": [
       "[(0, 1, 'a * b', 0),\n",
       " (0, 2, 'a * b', 0),\n",
       " (0, 3, 'a * b', 0),\n",
       " (0, 4, 'a * b', 0),\n",
       " (0, 5, 'a * b', 0),\n",
       " (0, 6, 'a * b', 0),\n",
       " (0, 7, 'a * b', 0),\n",
       " (0, 8, 'a * b', 0),\n",
       " (0, 9, 'a * b', 0),\n",
       " (0, 10, 'a * b', 0),\n",
       " (1, 1, 'a * b', 1),\n",
       " (1, 2, 'a * b', 2),\n",
       " (1, 3, 'a * b', 3),\n",
       " (1, 4, 'a * b', 4),\n",
       " (1, 5, 'a * b', 5),\n",
       " (1, 6, 'a * b', 6),\n",
       " (1, 7, 'a * b', 7),\n",
       " (1, 8, 'a * b', 8),\n",
       " (1, 9, 'a * b', 9),\n",
       " (1, 10, 'a * b', 10),\n",
       " (2, 1, 'a * b', 2),\n",
       " (2, 2, 'a * b', 4),\n",
       " (2, 3, 'a * b', 6),\n",
       " (2, 4, 'a * b', 8),\n",
       " (2, 5, 'a * b', 10),\n",
       " (2, 6, 'a * b', 12),\n",
       " (2, 7, 'a * b', 14),\n",
       " (2, 8, 'a * b', 16),\n",
       " (2, 9, 'a * b', 18),\n",
       " (2, 10, 'a * b', 20),\n",
       " (3, 1, 'a * b', 3),\n",
       " (3, 2, 'a * b', 6),\n",
       " (3, 3, 'a * b', 9),\n",
       " (3, 4, 'a * b', 12),\n",
       " (3, 5, 'a * b', 15),\n",
       " (3, 6, 'a * b', 18),\n",
       " (3, 7, 'a * b', 21),\n",
       " (3, 8, 'a * b', 24),\n",
       " (3, 9, 'a * b', 27),\n",
       " (3, 10, 'a * b', 30),\n",
       " (4, 1, 'a * b', 4),\n",
       " (4, 2, 'a * b', 8),\n",
       " (4, 3, 'a * b', 12),\n",
       " (4, 4, 'a * b', 16),\n",
       " (4, 5, 'a * b', 20),\n",
       " (4, 6, 'a * b', 24),\n",
       " (4, 7, 'a * b', 28),\n",
       " (4, 8, 'a * b', 32),\n",
       " (4, 9, 'a * b', 36),\n",
       " (4, 10, 'a * b', 40)]"
      ]
     },
     "execution_count": 30,
     "metadata": {},
     "output_type": "execute_result"
    }
   ],
   "source": [
    "[(a,b,\"a * b\",a*b) for a in range(5) for b in range(1, 11)]"
   ]
  },
  {
   "cell_type": "code",
   "execution_count": 33,
   "metadata": {},
   "outputs": [],
   "source": [
    "# # it will be bydefault a tuple\n",
    "# a = 12, 24\n",
    "# type(a)"
   ]
  },
  {
   "cell_type": "code",
   "execution_count": 34,
   "metadata": {},
   "outputs": [],
   "source": [
    "name = \"Hassan\"\n",
    "country = \"Pakistan\""
   ]
  },
  {
   "cell_type": "code",
   "execution_count": 35,
   "metadata": {},
   "outputs": [
    {
     "name": "stdout",
     "output_type": "stream",
     "text": [
      "H P\n",
      "H a\n",
      "H k\n",
      "H i\n",
      "H s\n",
      "H t\n",
      "H a\n",
      "H n\n",
      "a P\n",
      "a a\n",
      "a k\n",
      "a i\n",
      "a s\n",
      "a t\n",
      "a a\n",
      "a n\n",
      "s P\n",
      "s a\n",
      "s k\n",
      "s i\n",
      "s s\n",
      "s t\n",
      "s a\n",
      "s n\n",
      "s P\n",
      "s a\n",
      "s k\n",
      "s i\n",
      "s s\n",
      "s t\n",
      "s a\n",
      "s n\n",
      "a P\n",
      "a a\n",
      "a k\n",
      "a i\n",
      "a s\n",
      "a t\n",
      "a a\n",
      "a n\n",
      "n P\n",
      "n a\n",
      "n k\n",
      "n i\n",
      "n s\n",
      "n t\n",
      "n a\n",
      "n n\n"
     ]
    }
   ],
   "source": [
    "for character in name: \n",
    "    # Outer Loop\n",
    "    for character2 in country:\n",
    "        # Inner Loop\n",
    "        # Nested Loop\n",
    "        print(character, character2) "
   ]
  },
  {
   "cell_type": "code",
   "execution_count": 38,
   "metadata": {},
   "outputs": [
    {
     "data": {
      "text/plain": [
       "[['H', 'P'],\n",
       " ['H', 'a'],\n",
       " ['H', 'k'],\n",
       " ['H', 'i'],\n",
       " ['H', 's'],\n",
       " ['H', 't'],\n",
       " ['H', 'a'],\n",
       " ['H', 'n'],\n",
       " ['a', 'P'],\n",
       " ['a', 'a'],\n",
       " ['a', 'k'],\n",
       " ['a', 'i'],\n",
       " ['a', 's'],\n",
       " ['a', 't'],\n",
       " ['a', 'a'],\n",
       " ['a', 'n'],\n",
       " ['s', 'P'],\n",
       " ['s', 'a'],\n",
       " ['s', 'k'],\n",
       " ['s', 'i'],\n",
       " ['s', 's'],\n",
       " ['s', 't'],\n",
       " ['s', 'a'],\n",
       " ['s', 'n'],\n",
       " ['s', 'P'],\n",
       " ['s', 'a'],\n",
       " ['s', 'k'],\n",
       " ['s', 'i'],\n",
       " ['s', 's'],\n",
       " ['s', 't'],\n",
       " ['s', 'a'],\n",
       " ['s', 'n'],\n",
       " ['a', 'P'],\n",
       " ['a', 'a'],\n",
       " ['a', 'k'],\n",
       " ['a', 'i'],\n",
       " ['a', 's'],\n",
       " ['a', 't'],\n",
       " ['a', 'a'],\n",
       " ['a', 'n'],\n",
       " ['n', 'P'],\n",
       " ['n', 'a'],\n",
       " ['n', 'k'],\n",
       " ['n', 'i'],\n",
       " ['n', 's'],\n",
       " ['n', 't'],\n",
       " ['n', 'a'],\n",
       " ['n', 'n']]"
      ]
     },
     "execution_count": 38,
     "metadata": {},
     "output_type": "execute_result"
    }
   ],
   "source": [
    "# Nested Loops in terms of List Comprehension\n",
    "# [(character, character2) for character in name for character2 in country] # Produces a list of tuples\n",
    "[[character, character2] for character in name for character2 in country] # Produces a list of lists"
   ]
  },
  {
   "cell_type": "code",
   "execution_count": 39,
   "metadata": {},
   "outputs": [
    {
     "data": {
      "text/plain": [
       "[(0, 0),\n",
       " (0, 1),\n",
       " (0, 2),\n",
       " (0, 3),\n",
       " (0, 4),\n",
       " (1, 0),\n",
       " (1, 1),\n",
       " (1, 2),\n",
       " (1, 3),\n",
       " (1, 4),\n",
       " (2, 0),\n",
       " (2, 1),\n",
       " (2, 2),\n",
       " (2, 3),\n",
       " (2, 4),\n",
       " (3, 0),\n",
       " (3, 1),\n",
       " (3, 2),\n",
       " (3, 3),\n",
       " (3, 4),\n",
       " (4, 0),\n",
       " (4, 1),\n",
       " (4, 2),\n",
       " (4, 3),\n",
       " (4, 4)]"
      ]
     },
     "execution_count": 39,
     "metadata": {},
     "output_type": "execute_result"
    }
   ],
   "source": [
    "# Nested Loops in Numbers \n",
    "[(a,b) for a in range(0,5) for b in range(0,5)]"
   ]
  },
  {
   "cell_type": "markdown",
   "metadata": {},
   "source": [
    "*Functions*\n",
    "\n",
    "    * piece of Code which is dead unless called upon.\n",
    "\n",
    "    * You can pass data, known as parameters, into a function. \n",
    "    * Redundant / Repeated Code Blocks are used as a function.\n",
    "\n",
    "SYNTAX \n",
    "    \n",
    "    def functionName(parameters if any):\n",
    "        # Write Your Code Here \n",
    "        return (return Anything)"
   ]
  },
  {
   "cell_type": "code",
   "execution_count": 40,
   "metadata": {},
   "outputs": [],
   "source": [
    "def additionOfTwoNumbers(a, b):\n",
    "    return [a + b]"
   ]
  },
  {
   "cell_type": "code",
   "execution_count": 45,
   "metadata": {},
   "outputs": [
    {
     "data": {
      "text/plain": [
       "[5]"
      ]
     },
     "execution_count": 45,
     "metadata": {},
     "output_type": "execute_result"
    }
   ],
   "source": [
    "additionOfTwoNumbers(2, 3) # Returns a list of one element"
   ]
  },
  {
   "cell_type": "code",
   "execution_count": 46,
   "metadata": {},
   "outputs": [],
   "source": [
    "# Creating a function that returns a list of even numbers\n",
    "\n",
    "def evenNumbersInList(lst):\n",
    "    return [num for num in lst if num % 2 == 0]"
   ]
  },
  {
   "cell_type": "code",
   "execution_count": 47,
   "metadata": {},
   "outputs": [
    {
     "data": {
      "text/plain": [
       "[2, 4, 6, 8, 10]"
      ]
     },
     "execution_count": 47,
     "metadata": {},
     "output_type": "execute_result"
    }
   ],
   "source": [
    "evenNumbersInList([1, 2, 3, 4, 5, 6, 7, 8, 9, 10])"
   ]
  },
  {
   "cell_type": "markdown",
   "metadata": {},
   "source": [
    "Arguments \n",
    "\n",
    "    \"The Values Sent to Function are Arguments\"\n",
    "\n",
    "\n",
    "Parameters\n",
    "\n",
    "    \"The Values that catches these values are Parameters\""
   ]
  },
  {
   "cell_type": "markdown",
   "metadata": {},
   "source": [
    "Bookish Definition \n",
    "\n",
    "    \"A parameter is the variable listed inside the parentheses in the function definition. An argument is the value that is sent to the function when it is called.\""
   ]
  },
  {
   "cell_type": "code",
   "execution_count": 49,
   "metadata": {},
   "outputs": [
    {
     "data": {
      "text/plain": [
       "[5]"
      ]
     },
     "execution_count": 49,
     "metadata": {},
     "output_type": "execute_result"
    }
   ],
   "source": [
    "additionOfTwoNumbers(2, 3)"
   ]
  },
  {
   "cell_type": "markdown",
   "metadata": {},
   "source": [
    "NAMESPACES \n",
    "\n",
    "    \"A declarative region that provides a scope to the identifiers (the names of types, functions, variables, etc) inside it.\"\n",
    "            \n",
    "    - GLOBAL which can be accessed by anyone in the program.\n",
    "    - LOCAL which can be accessed only from inside, cannot access outside the function."
   ]
  },
  {
   "cell_type": "code",
   "execution_count": null,
   "metadata": {},
   "outputs": [],
   "source": []
  }
 ],
 "metadata": {
  "kernelspec": {
   "display_name": "Python 3.11.2 64-bit",
   "language": "python",
   "name": "python3"
  },
  "language_info": {
   "codemirror_mode": {
    "name": "ipython",
    "version": 3
   },
   "file_extension": ".py",
   "mimetype": "text/x-python",
   "name": "python",
   "nbconvert_exporter": "python",
   "pygments_lexer": "ipython3",
   "version": "3.11.2"
  },
  "orig_nbformat": 4,
  "vscode": {
   "interpreter": {
    "hash": "69713e280fccb9aa802931bf1b98f79efcfe938b3ab1e86cc85b2e647522a81d"
   }
  }
 },
 "nbformat": 4,
 "nbformat_minor": 2
}
